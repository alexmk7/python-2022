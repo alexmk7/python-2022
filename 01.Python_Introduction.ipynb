{
 "cells": [
  {
   "cell_type": "markdown",
   "metadata": {
    "slideshow": {
     "slide_type": "slide"
    }
   },
   "source": [
    "# Введение в Python\n",
    "\n",
    "`Python` - скриптовый, мультипарадигменный (ООП, с элементами ФП и пр.) язык программирования общего назначения.\n",
    "\n",
    "Python. Общая тенденция возрастающее доминирование для Data\n",
    "Science (65% по данным KDNaggets). В области Deep Learning полное\n",
    "доминирование.\n",
    "\n",
    "* простой синтаксис\n",
    "* язык общего назначения\n",
    "* разрабатывается сообществом, свободное программное обеспечение (спецификация и `CPython`)\n",
    "* библиотеки для анализа данных и глубокого обучения\n",
    "* основные области применения: \n",
    "    - web-разработка\n",
    "    - скрипты автоматизации\n",
    "    - анализа данных и машинное обучение"
   ]
  },
  {
   "cell_type": "markdown",
   "metadata": {
    "slideshow": {
     "slide_type": "slide"
    },
    "tags": []
   },
   "source": [
    "## Реализации Python\n",
    "\n",
    "**CPython**\n",
    "* эталонная реализация\n",
    "* исторические проблемы, например `Global Interpreter Lock` (`GIL`)\n",
    "* нативные расширения \n",
    "\n",
    "**PyPy**\n",
    "* `Just-in-time compilation` (`JIT`)\n",
    "* в общем случае быстрее\n",
    "* нет совместимости со многими библиотеками для `CPython`\n",
    "\n",
    "**Jython**\n",
    "* `JVM`\n",
    "\n",
    "**GraalPython**\n",
    "* `GraalVM`\n"
   ]
  },
  {
   "cell_type": "markdown",
   "metadata": {
    "slideshow": {
     "slide_type": "slide"
    }
   },
   "source": [
    "## Особенности (`СPython`)\n",
    "\n",
    "* **строгая** **динамическая** типизация\n",
    "* автоматическое управление памятью\n",
    "\n",
    "Явные преимущества:\n",
    "* интерпретируемость, нет необходимости компилировать код (+/-)\n",
    "* развитая стандартная библиотека\n",
    "* большое количество сторонних библиотек\n",
    "* простота, отлично подходит для быстрого прототипирования\n",
    "\n",
    "Недостатки:\n",
    "* проблемы с производительности в определенных сценариях \n",
    "* проблемы с статическим анализом кода (как следствие - верификация, инструменты рефакторинга)\n",
    "* исторические проблемы, связанные с дизайном языка (переход от **Python2** к **Python3**)"
   ]
  },
  {
   "cell_type": "markdown",
   "metadata": {
    "slideshow": {
     "slide_type": "slide"
    }
   },
   "source": [
    "### Инфраструктура \n",
    "\n",
    "- **[Python Software Foundation](https://www.python.org/psf-landing/)**\n",
    "- **Python 2** устарел и не поддерживается\n",
    "- **[PyPi](https://pypi.org)** - репозиторий пакетов\n",
    "    *  NB: безопасность\n",
    "- **[PEP](https://peps.python.org/)** - **Python Enhancement Proposal**\n",
    "- Система версионирования\n",
    "    - текущая (на `09.2022`) версия `3.10.7`\n",
    "    - расписание выхода версий регламентируется соответствующими `PEP` (например `PEP-619`)\n",
    "    - поддержка (исправления и исправления уязвимостей) 2-5 лет"
   ]
  },
  {
   "cell_type": "markdown",
   "metadata": {
    "slideshow": {
     "slide_type": "slide"
    }
   },
   "source": [
    "## Статическая и динамическая типизация\n",
    "\n",
    "```cpp\n",
    "// Статическая типизация\n",
    "int a = 5;\n",
    "a = \"hello\"; // oops\n",
    "```\n",
    "\n",
    "```python\n",
    "# Динамическая типизация\n",
    "a = 5\n",
    "a = \"hello\" # Ok\n",
    "```\n",
    "\n",
    "Проблема:\n",
    "\n",
    "```python\n",
    "def add(a, b):\n",
    "    return a + b\n",
    "\n",
    "add(5, 10)\n",
    "add(\"5\", \"10\")\n",
    "```"
   ]
  },
  {
   "cell_type": "markdown",
   "metadata": {
    "slideshow": {
     "slide_type": "slide"
    }
   },
   "source": [
    "## Строгая и слабая типизация\n",
    "\n",
    "```python\n",
    "# Строгая типизация\n",
    "a = \"10\"\n",
    "b = a + 5 #ошибка\n",
    "```\n",
    "```python\n",
    "# Слабая типизация\n",
    "a = \"10\"\n",
    "a = a + 5 # ???? 15? \"105\"?\n",
    "```"
   ]
  },
  {
   "cell_type": "markdown",
   "metadata": {
    "slideshow": {
     "slide_type": "slide"
    }
   },
   "source": [
    "## Python для научных вычислений и машинного обучения \n",
    "\n",
    "Язык общего назначения, но с помощью сторонних библиотек можно использовать качестве альтернативы для `MATLAB`, `Mathematica`, `R`\n",
    "\n",
    "Преимущества:\n",
    "* свободное программное обеспечение\n",
    "* большой выбор нативных библиотек, где `Python` выступает в качестве (`Domain-specific language`) `DSL`\n",
    "* можно создавать системы, пригодные для промышленного использования\n",
    "* многие библиотеки написаны на `C` \n",
    "* есть инфраструктура для быстрого создания обертки над низкоуровневыми библиотеками\n",
    "* распределенные вычисления (`Dask`, `Ray`, `PySpark`, ...)\n",
    "\n",
    "Недостатки:\n",
    "* по удобству может уступать специализированным языкам программирования (например, **R**)\n",
    "* ограничения интерпретатора `CPython` (отсутствие JIT, GIL и т.д.)"
   ]
  },
  {
   "cell_type": "markdown",
   "metadata": {
    "slideshow": {
     "slide_type": "slide"
    }
   },
   "source": [
    "### Некоторые библиотеки \n",
    "\n",
    "* **[numpy](https://pypi.python.org/pypi/numpy)** - линейная алгебра, случайные числа, базовые операции\n",
    "* **[scipy](https://pypi.python.org/pypi/scipy)** - статистика, численные методы и многое другое\n",
    "* **[tensorflow](https://tensorflow.org)** - машинное обучение, автоматическое дифференцирование, нейронные сети\n",
    "* **[pytorch](https://pytorch.org)** - машинное обучение, автоматическое дифференцирование, нейронные сети\n",
    "* **[matplotlib](https://pypi.python.org/pypi/matplotlib)** - рисование графиков, визуализация\n",
    "* **[plotly](https://github.com/plotly/plotly.py)** - рисование графиков, визуализация\n",
    "* **[pandas](https://pypi.python.org/pypi/pandas)** - работа с данными в стиле датафреймов `R`\n",
    "* **[simpy](http://www.sympy.org/en/index.html)** - символьные вычисления\n",
    "* **[scikit-learn](http://scikit-learn.org)** - базовые алгоритмы машинного обучения\n",
    "* **[catboost](https://catboost.ai), [xgboost](https://xgboost.ai), [lightgbm](https://github.com/microsoft/LightGBM)** - градиентный бустинг\n",
    "* **[statsmodels](http://statsmodels.sourceforge.net)** - статистика, машинное обучение\n",
    "* **[pymc](http://pymc-devs.github.io/pymc)** - байесовское статистическое моделирование\n",
    "* **[networkx](https://pypi.python.org/pypi/networkx)** - работа с графами, визуализация, раскладка"
   ]
  },
  {
   "cell_type": "markdown",
   "metadata": {
    "slideshow": {
     "slide_type": "slide"
    }
   },
   "source": [
    "## Установка Python\n",
    "\n",
    "**Linux:** \n",
    "- можно использовать системный пакетный менеджер (apt, yum, pacman)\n",
    "    \n",
    "**Windows, Linux, Mac OS:**\n",
    "- [Anaconda Scientific Python Distribution](https://conda.io/projects/conda/en/latest/) \n",
    "\n",
    "**Windows:**\n",
    "- `WSL2`\n",
    "\n",
    "**Docker:**\n",
    "- https://hub.docker.com/_/python/\n",
    "\n",
    "Проверка версий: \n",
    "   \n",
    "    $ python3 --version"
   ]
  },
  {
   "cell_type": "markdown",
   "metadata": {
    "slideshow": {
     "slide_type": "slide"
    }
   },
   "source": [
    "## REPL\n",
    "\n",
    "**REPL** (read-eval-print loop) - \"чтение-выполнение-вывод\". Простая интерактивная консольная среда выполнения.\n",
    "\n",
    "<img src=\"img/repl.jpg\" style=\"width:50%\"></img>\n",
    "\n",
    "* **read** читает одно выражение из командной строки\n",
    "* **eval** вычисляет значение выражения\n",
    "* **print** печатает результат выражения пользователю\n",
    "\n",
    "Парадигма разработки:\n",
    "* алгоритм разрабатывается небольшими порциями\n",
    "* сразу тестируется\n",
    "* отпадает необходимость интерактивной отладки"
   ]
  },
  {
   "cell_type": "markdown",
   "metadata": {},
   "source": [
    "## Jupyter Notebooks\n",
    "\n",
    "* Физически это файл с расширением `ipynb`\n",
    "* Ячейки\n",
    "    - в каждой ячейке может быть текст, код или что-нибудь ещё в зависимости от рисширений\n",
    "    - ячейку можно запустить и сразу получить результат\n",
    "* графический или интерактивный вывод    \n",
    "* не обязательно Python (можно `R`, `Julia`, `Kotlin`). Расширяемая поддержка c помощью т.н. **ядер**\n",
    "* **JupyterLab**\n",
    "    - установка:  $ pip install jupyterlab\n",
    "    - запуск: $ jupyter lab\n",
    "* **Jupyter Notebook**\n",
    "    - установка: $ pip install notebook\n",
    "    - запуск: $ jupyter notebook\n"
   ]
  },
  {
   "cell_type": "markdown",
   "metadata": {},
   "source": [
    "### Рабочая среда Jupyter\n",
    "\n",
    "* WEB-браузер (**Jupyter Notebook** или **Jupyter lab**)\n",
    "    - ограничения при анализе кода\n",
    "* **VSCode**\n",
    "    - субъективно самая удобная среда по состоянию на `2022`\n",
    "    - могут быть проблемы с расширениями\n",
    "* PyCharm\n",
    "    - поддержка Jupyter есть только в Professional версии\n"
   ]
  },
  {
   "cell_type": "markdown",
   "metadata": {},
   "source": [
    "### Почему Jupyter Notebook?\n",
    "\n",
    "- среда для интерактивного анализа данных и научных вычислений\n",
    "- набор дополнений, возможность документирования\n",
    "- богатые возможности визуализации\n",
    "- интеграция с `pandas`, `matplotlib` и другими библиотеками "
   ]
  },
  {
   "cell_type": "markdown",
   "metadata": {},
   "source": [
    "### Эффективная работа с Jupyter Notebook\n",
    "\n",
    "- горячие клавиши (вставка/удаление/запуск ячеек)\n",
    "- правила форматирования кода\n",
    "- одна ячейка - одно логическое действие, один шаг по обработке данных\n",
    "- правила гигиены:\n",
    "    * контроль версий\n",
    "    * постоянное документирование"
   ]
  },
  {
   "cell_type": "markdown",
   "metadata": {},
   "source": [
    "### Горячие клавиши\n",
    "- `Ctrl+Enter` запустить ячейку\n",
    "- `Ctrl+Shift` запустить ячейку и переместиться вниз\n",
    "- `Esc+m` текстовая ячейка\n",
    "- `Esc+y` ячейка с кодом\n",
    "- `Ctrl+m+b` вставить новую ячейку за текущей ячейкой\n",
    "- `Ctrl+m+a` вставить новую ячейку перед текущей ячейкой\n",
    "- `Ctrl+m+x` удалить текущую ячейку"
   ]
  },
  {
   "cell_type": "markdown",
   "metadata": {},
   "source": [
    "### \"Облачные\" ноутбуки\n",
    "- **Google Colaboratory** https://colab.research.google.com/\n",
    "    * Доступ GPU и TPU\n",
    "    * Интеграция с google drive\n",
    "- **Kaggle Notebooks** https://www.kaggle.com/code\n",
    "- **Azure Machine Learning** https://ml.azure.com\n",
    "- **Github Codespaces** https://docs.github.com/en/codespaces"
   ]
  },
  {
   "cell_type": "markdown",
   "metadata": {},
   "source": [
    "# Синтаксис и семантика Python\n",
    "\n",
    "**Python Zen**:\n",
    "\n",
    "```python\n",
    "import this\n",
    "```\n",
    "\n",
    "    Beautiful is better than ugly.\n",
    "    Explicit is better than implicit.\n",
    "    Simple is better than complex.\n",
    "    Complex is better than complicated.\n",
    "    Flat is better than nested.\n",
    "    Sparse is better than dense.\n",
    "    Readability counts.\n",
    "    Special cases aren't special enough to break the rules.\n",
    "    Although practicality beats purity.\n",
    "    Errors should never pass silently.\n",
    "    Unless explicitly silenced.\n",
    "    In the face of ambiguity, refuse the temptation to guess.\n",
    "    There should be one-- and preferably only one --obvious way to do it.\n",
    "    Although that way may not be obvious at first unless you're Dutch.\n",
    "    Now is better than never.\n",
    "    Although never is often better than *right* now.\n",
    "    If the implementation is hard to explain, it's a bad idea.\n",
    "    If the implementation is easy to explain, it may be a good idea.\n",
    "    Namespaces are one honking great idea -- let's do more of those!"
   ]
  },
  {
   "cell_type": "markdown",
   "metadata": {},
   "source": [
    "## Отступы\n",
    "\n",
    "В **Python** для задания блоков потока управления используются отступы, что отличает его от языков, где используются ключевые слова или специальные символы.\n",
    "\n",
    "```python\n",
    "if a == 5:\n",
    "    b = 2\n",
    "else:\n",
    "    b = 7\n",
    "    foo()\n",
    "```\n",
    "\n",
    "Нельзя смешивать табуляцию и пробелы. Рекомендуется использовать 4 пробела."
   ]
  },
  {
   "cell_type": "markdown",
   "metadata": {},
   "source": [
    "## Переменные \n",
    "\n",
    "Имена переменных в Python могут содержать буквы, цифры и `_`, начинаться должны с буквы (`_` в начале может имеет семантическую нагрузку). По соглашению, имена переменных начинаются с маленькой буквы, имена классов - с большой.\n",
    "\n",
    "Ключевые слова:\n",
    "\n",
    "    and, as, assert, break, class, continue, def, del, elif, else, except, \n",
    "    exec, finally, for, from, global, if, import, in, is, lambda, not, or,\n",
    "    pass, print, raise, return, try, while, with, yield"
   ]
  },
  {
   "cell_type": "markdown",
   "metadata": {},
   "source": [
    "## Встроенные типы"
   ]
  },
  {
   "cell_type": "markdown",
   "metadata": {},
   "source": [
    "### bool\n",
    "- два значения `True` и `False`\n",
    "- базовые логические операции `or`, `and`, `not`\n",
    "\n",
    "```python\n",
    "\n",
    "a = True\n",
    "b = False\n",
    "\n",
    "c = a or b\n",
    "\n",
    "print(c)\n",
    "\n",
    "```"
   ]
  },
  {
   "cell_type": "markdown",
   "metadata": {},
   "source": [
    "### int\n",
    "\n",
    "- immutable\n",
    "- поддерживается длинная арифметика (в **Python2** было два разных типа)\n",
    "\n",
    "```python\n",
    "a = 2 ** 200  # 1606938044258990275541962092341162602522202993782792835301376\n",
    "```\n",
    "\n",
    "- операция целочисленного деления - \"`//`\"\n",
    "- \"`/`\" конвертирует значения в числа с плавающей точкой\n",
    "\n",
    "```python\n",
    "\n",
    "2 // 5 # 0\n",
    "2 / 5 # 0.4\n",
    "\n",
    "```"
   ]
  },
  {
   "cell_type": "markdown",
   "metadata": {},
   "source": []
  }
 ],
 "metadata": {
  "celltoolbar": "Слайд-шоу",
  "kernelspec": {
   "display_name": "Python 3 (ipykernel)",
   "language": "python",
   "name": "python3"
  },
  "language_info": {
   "codemirror_mode": {
    "name": "ipython",
    "version": 3
   },
   "file_extension": ".py",
   "mimetype": "text/x-python",
   "name": "python",
   "nbconvert_exporter": "python",
   "pygments_lexer": "ipython3",
   "version": "3.10.4"
  },
  "vscode": {
   "interpreter": {
    "hash": "916dbcbb3f70747c44a77c7bcd40155683ae19c65e1c03b4aa3499c5328201f1"
   }
  }
 },
 "nbformat": 4,
 "nbformat_minor": 4
}
