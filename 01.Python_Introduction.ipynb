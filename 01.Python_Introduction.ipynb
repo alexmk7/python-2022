{
 "cells": [
  {
   "cell_type": "markdown",
   "metadata": {
    "slideshow": {
     "slide_type": "slide"
    }
   },
   "source": [
    "# Введение в Python\n",
    "\n",
    "`Python` - скриптовый, мультипарадигменный (ООП, с элементами ФП и пр.) язык программирования общего назначения.\n",
    "\n",
    "Python. Общая тенденция возрастающее доминирование для Data\n",
    "Science (65% по данным KDNaggets). В области Deep Learning полное\n",
    "доминирование.\n",
    "\n",
    "* простой синтаксис\n",
    "* язык общего назначения\n",
    "* разрабатывается сообществом, свободное программное обеспечение (спецификация и `CPython`)\n",
    "* библиотеки для анализа данных и глубокого обучения\n",
    "* основные области применения: \n",
    "    - web-разработка\n",
    "    - скрипты автоматизации\n",
    "    - анализа данных и машинное обучение"
   ]
  },
  {
   "cell_type": "markdown",
   "metadata": {},
   "source": [
    "## Реализации Python\n",
    "\n",
    "**CPython**\n",
    "* эталонная реализация\n",
    "* исторические проблемы, например `Global Interpreter Lock` (`GIL`)\n",
    "* нативные расширения \n",
    "\n",
    "**PyPy**\n",
    "* `Just-in-time compilation` (`JIT`)\n",
    "* в общем случае быстрее\n",
    "* нет совместимости со многими библиотеками для `CPython`\n",
    "\n",
    "**Jython**\n",
    "* `JVM`\n",
    "\n",
    "**GraalPython**\n",
    "* `GraalVM`\n"
   ]
  },
  {
   "cell_type": "markdown",
   "metadata": {
    "slideshow": {
     "slide_type": "slide"
    }
   },
   "source": [
    "## Особенности (`СPython`)\n",
    "\n",
    "* **строгая** **динамическая** типизация\n",
    "* автоматическое управление памятью\n",
    "\n",
    "Явные преимущества:\n",
    "* интерпретируемость, нет необходимости компилировать код (+/-)\n",
    "* развитая стандартная библиотека\n",
    "* большое количество сторонних библиотек\n",
    "* простота, отлично подходит для быстрого прототипирования\n",
    "\n",
    "Недостатки:\n",
    "* проблемы с производительности в определенных сценариях \n",
    "* проблемы с статическим анализом кода (как следствие - верификация, инструменты рефакторинга)\n",
    "* исторические проблемы, связанные с дизайном языка (переход от **Python2** к **Python3**)"
   ]
  },
  {
   "cell_type": "markdown",
   "metadata": {
    "slideshow": {
     "slide_type": "slide"
    }
   },
   "source": [
    "### Инфраструктура \n",
    "\n",
    "- **[Python Software Foundation](https://www.python.org/psf-landing/)**\n",
    "- **Python 2** устарел и не поддерживается\n",
    "- **[PyPi](https://pypi.org)** - репозиторий пакетов\n",
    "    *  NB: безопасность\n",
    "- **[PEP](https://peps.python.org/)** - **Python Enhancement Proposal**\n",
    "- Система версионирования\n",
    "    - текущая (на `09.2022`) версия `3.10.7`\n",
    "    - расписание выхода версий регламентируется соответствующими `PEP` (например `PEP-619`)\n",
    "    - поддержка (исправления и исправления уязвимостей) 2-5 лет"
   ]
  },
  {
   "cell_type": "markdown",
   "metadata": {
    "slideshow": {
     "slide_type": "slide"
    }
   },
   "source": [
    "## Статическая и динамическая типизация\n",
    "\n",
    "```cpp\n",
    "// Статическая типизация\n",
    "int a = 5;\n",
    "a = \"hello\"; // oops\n",
    "```\n",
    "\n",
    "```python\n",
    "# Динамическая типизация\n",
    "a = 5\n",
    "a = \"hello\" # Ok\n",
    "```\n",
    "\n",
    "Проблема:\n",
    "\n",
    "```python\n",
    "def add(a, b):\n",
    "    return a + b\n",
    "\n",
    "add(5, 10)\n",
    "add(\"5\", \"10\")\n",
    "```"
   ]
  },
  {
   "cell_type": "markdown",
   "metadata": {
    "slideshow": {
     "slide_type": "slide"
    }
   },
   "source": [
    "## Строгая и слабая типизация\n",
    "\n",
    "```python\n",
    "# Строгая типизация\n",
    "a = \"10\"\n",
    "b = a + 5 #ошибка\n",
    "```\n",
    "```python\n",
    "# Слабая типизация\n",
    "a = \"10\"\n",
    "a = a + 5 # ???? 15? \"105\"?\n",
    "```"
   ]
  },
  {
   "cell_type": "markdown",
   "metadata": {
    "slideshow": {
     "slide_type": "slide"
    }
   },
   "source": [
    "## Python для научных вычислений и машинного обучения \n",
    "\n",
    "Язык общего назначения, но с помощью сторонних библиотек можно использовать качестве альтернативы для `MATLAB`, `Mathematica`, `R`\n",
    "\n",
    "Преимущества:\n",
    "* свободное программное обеспечение\n",
    "* большой выбор нативных библиотек, где `Python` выступает в качестве (`Domain-specific language`) `DSL`\n",
    "* можно создавать системы, пригодные для промышленного использования\n",
    "* многие библиотеки написаны на `C` \n",
    "* есть инфраструктура для быстрого создания обертки над низкоуровневыми библиотеками\n",
    "* распределенные вычисления (`Dask`, `Ray`, `PySpark`, ...)\n",
    "\n",
    "Недостатки:\n",
    "* по удобству может уступать специализированным языкам программирования (например, **R**)\n",
    "* ограничения интерпретатора `CPython` (отсутствие JIT, GIL и т.д.)"
   ]
  },
  {
   "cell_type": "markdown",
   "metadata": {
    "slideshow": {
     "slide_type": "slide"
    }
   },
   "source": [
    "### Некоторые библиотеки \n",
    "\n",
    "* **[numpy](https://pypi.python.org/pypi/numpy)** - линейная алгебра, случайные числа, базовые операции\n",
    "* **[scipy](https://pypi.python.org/pypi/scipy)** - статистика, численные методы и многое другое\n",
    "* **[tensorflow](https://tensorflow.org)** - машинное обучение, автоматическое дифференцирование, нейронные сети\n",
    "* **[pytorch](https://pytorch.org)** - машинное обучение, автоматическое дифференцирование, нейронные сети\n",
    "* **[matplotlib](https://pypi.python.org/pypi/matplotlib)** - рисование графиков, визуализация\n",
    "* **[plotly](https://github.com/plotly/plotly.py)** - рисование графиков, визуализация\n",
    "* **[pandas](https://pypi.python.org/pypi/pandas)** - работа с данными в стиле датафреймов `R`\n",
    "* **[simpy](http://www.sympy.org/en/index.html)** - символьные вычисления\n",
    "* **[scikit-learn](http://scikit-learn.org)** - базовые алгоритмы машинного обучения\n",
    "* **[catboost](https://catboost.ai), [xgboost](https://xgboost.ai), [lightgbm](https://github.com/microsoft/LightGBM)** - градиентный бустинг\n",
    "* **[statsmodels](http://statsmodels.sourceforge.net)** - статистика, машинное обучение\n",
    "* **[pymc](http://pymc-devs.github.io/pymc)** - байесовское статистическое моделирование\n",
    "* **[networkx](https://pypi.python.org/pypi/networkx)** - работа с графами, визуализация, раскладка"
   ]
  },
  {
   "cell_type": "markdown",
   "metadata": {
    "slideshow": {
     "slide_type": "slide"
    }
   },
   "source": [
    "## Установка Python\n",
    "\n",
    "**Linux:** \n",
    "- можно использовать системный пакетный менеджер (apt, yum, pacman)\n",
    "    \n",
    "**Windows, Linux, Mac OS:**\n",
    "- [Anaconda Scientific Python Distribution](https://conda.io/projects/conda/en/latest/) \n",
    "\n",
    "**Windows:**\n",
    "- `WSL2`\n",
    "\n",
    "**Docker:**\n",
    "- https://hub.docker.com/_/python/\n",
    "\n",
    "Проверка версий: \n",
    "   \n",
    "    $ python3 --version"
   ]
  },
  {
   "cell_type": "markdown",
   "metadata": {},
   "source": [
    "## Командная строка Linux\n",
    "\n",
    "**Компьютерный терминал** - аппаратное устройство, используемое для взаимодействия пользователя с компьютером (что-то из истории вычислительной техники).\n",
    "\n",
    "**Эмулятор терминала**, **tty** - программа, которая эмулирует терминал компьютера внутри используя средства операционной системы\n",
    "\n",
    "**Shell (оболочка операционной системы)** - программа,  предоставляющая интерфейс взаимодействия операционной системы с пользователем. Может быть графической или представлять собой текстовый интерфейс командной строки (**CLI**). \n",
    "\n",
    "Примеры **Unix shell**'ов: `sh`, `csh`, `bash`, `zsh`, `fish`. \n",
    "\n",
    "Windows: `PowerShell`, `CMD.EXE`"
   ]
  },
  {
   "cell_type": "markdown",
   "metadata": {},
   "source": [
    "### Командные оболочки Linux\n",
    "\n",
    "Обычно ввод командной строки выглядит приблизительно так:\n",
    "\n",
    ">user@host:directory$\n",
    "\n",
    "**user** - имя текущего пользователя\n",
    "\n",
    "**host** - имя компьютера \n",
    "\n",
    "**directory** - текущая директория\n",
    "\n",
    "<img src=\"img/bash.png\" style=\"width:50%\"></img>"
   ]
  },
  {
   "cell_type": "markdown",
   "metadata": {},
   "source": [
    "### Некоторые команды в Unix shell\n",
    "\n",
    "Узнать текущий шелл\n",
    "\n",
    "> echo $SHELL\n",
    "\n",
    "Работа с файловой системой:\n",
    "`cd`, `ls`, `cp`, `mv`, `rm`, `pwd`, `mkdir`\n",
    "\n",
    "Работа с файлами:\n",
    "`cat`, `head`, `tail`, `less`, `grep`, `wc`\n",
    "\n",
    "Конвейер команд (pipe):\n",
    "\n",
    "> cat a.txt | grep \"Hello\" | wc -l"
   ]
  },
  {
   "cell_type": "markdown",
   "metadata": {
    "slideshow": {
     "slide_type": "slide"
    }
   },
   "source": [
    "## REPL\n",
    "\n",
    "**REPL** (read-eval-print loop) - \"чтение-выполнение-вывод\". Простая интерактивная консольная среда выполнения.\n",
    "\n",
    "<img src=\"img/repl.jpg\" style=\"width:35%\"></img>\n",
    "\n",
    "* **read** читает одно выражение из командной строки\n",
    "* **eval** вычисляет значение выражения\n",
    "* **print** печатает результат выражения пользователю\n",
    "\n",
    "Парадигма разработки:\n",
    "* алгоритм разрабатывается небольшими порциями\n",
    "* сразу тестируется\n",
    "* отпадает необходимость интерактивной отладки"
   ]
  },
  {
   "cell_type": "markdown",
   "metadata": {},
   "source": [
    "## Jupyter Notebooks\n",
    "\n",
    "* Физически это файл с расширением `ipynb`\n",
    "* Ячейки\n",
    "    - в каждой ячейке может быть текст, код или что-нибудь ещё в зависимости от рисширений\n",
    "    - ячейку можно запустить и сразу получить результат\n",
    "* графический или интерактивный вывод    \n",
    "* не обязательно Python (можно `R`, `Julia`, `Kotlin`). Расширяемая поддержка c помощью т.н. **ядер**\n",
    "* **JupyterLab**\n",
    "    - установка:  $ pip install jupyterlab\n",
    "    - запуск: $ jupyter lab\n",
    "* **Jupyter Notebook**\n",
    "    - установка: $ pip install notebook\n",
    "    - запуск: $ jupyter notebook\n"
   ]
  },
  {
   "cell_type": "markdown",
   "metadata": {},
   "source": [
    "### Рабочая среда Jupyter\n",
    "\n",
    "* WEB-браузер (**Jupyter Notebook** или **Jupyter lab**)\n",
    "    - ограничения при анализе кода\n",
    "* **VSCode**\n",
    "    - субъективно самая удобная среда по состоянию на `2022`\n",
    "    - могут быть проблемы с расширениями\n",
    "* PyCharm\n",
    "    - поддержка Jupyter есть только в Professional версии\n"
   ]
  },
  {
   "cell_type": "markdown",
   "metadata": {},
   "source": [
    "### Почему Jupyter Notebook?\n",
    "\n",
    "- среда для интерактивного анализа данных и научных вычислений\n",
    "- набор дополнений, возможность документирования\n",
    "- богатые возможности визуализации\n",
    "- интеграция с `pandas`, `matplotlib` и другими библиотеками "
   ]
  },
  {
   "cell_type": "markdown",
   "metadata": {},
   "source": [
    "### Эффективная работа с Jupyter Notebook\n",
    "\n",
    "- горячие клавиши (вставка/удаление/запуск ячеек)\n",
    "- правила форматирования кода\n",
    "- одна ячейка - одно логическое действие, один шаг по обработке данных\n",
    "- правила гигиены:\n",
    "    * контроль версий\n",
    "    * постоянное документирование"
   ]
  },
  {
   "cell_type": "markdown",
   "metadata": {},
   "source": [
    "### Горячие клавиши\n",
    "- `Ctrl+Enter` запустить ячейку\n",
    "- `Ctrl+Shift` запустить ячейку и переместиться вниз\n",
    "- `Esc+m` текстовая ячейка\n",
    "- `Esc+y` ячейка с кодом\n",
    "- `Ctrl+m+b` вставить новую ячейку за текущей ячейкой\n",
    "- `Ctrl+m+a` вставить новую ячейку перед текущей ячейкой\n",
    "- `Ctrl+m+x` удалить текущую ячейку"
   ]
  },
  {
   "cell_type": "markdown",
   "metadata": {},
   "source": [
    "### \"Облачные\" ноутбуки\n",
    "- **Google Colaboratory** https://colab.research.google.com/\n",
    "    * Доступ GPU и TPU\n",
    "    * Интеграция с google drive\n",
    "- **Kaggle Notebooks** https://www.kaggle.com/code\n",
    "- **Azure Machine Learning** https://ml.azure.com\n",
    "- **Github Codespaces** https://docs.github.com/en/codespaces"
   ]
  },
  {
   "cell_type": "markdown",
   "metadata": {},
   "source": [
    "# Синтаксис и семантика Python\n",
    "\n",
    "**Python Zen**:\n",
    "\n",
    "```python\n",
    "import this\n",
    "```\n",
    "\n",
    "    Beautiful is better than ugly.\n",
    "    Explicit is better than implicit.\n",
    "    Simple is better than complex.\n",
    "    Complex is better than complicated.\n",
    "    Flat is better than nested.\n",
    "    Sparse is better than dense.\n",
    "    Readability counts.\n",
    "    Special cases aren't special enough to break the rules.\n",
    "    Although practicality beats purity.\n",
    "    Errors should never pass silently.\n",
    "    Unless explicitly silenced.\n",
    "    In the face of ambiguity, refuse the temptation to guess.\n",
    "    There should be one-- and preferably only one --obvious way to do it.\n",
    "    Although that way may not be obvious at first unless you're Dutch.\n",
    "    Now is better than never.\n",
    "    Although never is often better than *right* now.\n",
    "    If the implementation is hard to explain, it's a bad idea.\n",
    "    If the implementation is easy to explain, it may be a good idea.\n",
    "    Namespaces are one honking great idea -- let's do more of those!"
   ]
  },
  {
   "cell_type": "markdown",
   "metadata": {},
   "source": [
    "## Отступы\n",
    "\n",
    "В **Python** для задания блоков потока управления используются отступы, что отличает его от языков, где используются ключевые слова или специальные символы.\n",
    "\n",
    "```python\n",
    "if a == 5:\n",
    "    b = 2\n",
    "else:\n",
    "    b = 7\n",
    "    foo()\n",
    "```\n",
    "\n",
    "Нельзя смешивать табуляцию и пробелы. Рекомендуется использовать 4 пробела."
   ]
  },
  {
   "cell_type": "markdown",
   "metadata": {},
   "source": [
    "## Переменные \n",
    "\n",
    "Имена переменных в Python могут содержать буквы, цифры и `_`, начинаться должны с буквы (`_` в начале может имеет семантическую нагрузку). По соглашению, имена переменных начинаются с маленькой буквы, имена классов - с большой.\n",
    "\n",
    "Ключевые слова:\n",
    "\n",
    "    and, as, assert, break, class, continue, def, del, elif, else, except, \n",
    "    exec, finally, for, from, global, if, import, in, is, lambda, not, or,\n",
    "    pass, print, raise, return, try, while, with, yield"
   ]
  },
  {
   "cell_type": "markdown",
   "metadata": {},
   "source": [
    "## Встроенные типы"
   ]
  },
  {
   "cell_type": "markdown",
   "metadata": {},
   "source": [
    "### bool\n",
    "- два значения `True` и `False`\n",
    "- базовые логические операции `or`, `and`, `not`\n",
    "\n",
    "```python\n",
    "\n",
    "a = True\n",
    "b = False\n",
    "\n",
    "c = a or b\n",
    "\n",
    "print(c)\n",
    "\n",
    "```"
   ]
  },
  {
   "cell_type": "markdown",
   "metadata": {},
   "source": [
    "### int\n",
    "\n",
    "- immutable\n",
    "- поддерживается длинная арифметика (в **Python2** было два разных типа)\n",
    "\n",
    "```python\n",
    "a = 2 ** 200  # 1606938044258990275541962092341162602522202993782792835301376\n",
    "```\n",
    "\n",
    "- операция целочисленного деления - \"`//`\"\n",
    "- \"`/`\" конвертирует значения в числа с плавающей точкой\n",
    "\n",
    "```python\n",
    "\n",
    "2 // 5 # 0\n",
    "2 / 5 # 0.4\n",
    "\n",
    "```"
   ]
  },
  {
   "cell_type": "markdown",
   "metadata": {},
   "source": [
    "### str \n",
    "\n",
    "Представление строк:\n",
    "\n",
    "```python\n",
    "a = \"Hello World!\"\n",
    "\n",
    "a = 'Hello worlds'\n",
    "\n",
    "a = \"\"\" \n",
    "   Hello\n",
    "   world\n",
    " \"\"\""
   ]
  },
  {
   "cell_type": "markdown",
   "metadata": {},
   "source": [
    "#### Форматирование строк\n",
    "\n",
    "```python\n",
    "a = 2.1234\n",
    "c = 5\n",
    "\n",
    "b = \"Formatted numbers: %f, %d\" % (a, c)   # старый стиль\n",
    "b = \"Formatted numbers: {:.2}, {}\".format(a, c)  # новый стиль\n",
    "b = f\"Formatted numbers: {a:.2}, {b}\"  # f-строки\n",
    "```"
   ]
  },
  {
   "cell_type": "markdown",
   "metadata": {},
   "source": [
    "#### Операции со строками\n",
    "\n",
    "```python\n",
    "v: int  = s.find('<str>') # поиск первого вхождения\n",
    "v: list = s.split('<str>') # разделить на строки\n",
    "v: str  = s.islower() # s.isupper(), s.isdigit(), s.isspace(), s.isalnum()\n",
    "v: str  = s.replace('<str>', '<str>')\n",
    "v: str  = s.lstrip()  # s.rstrip(), s.strip() - удалить пробельные символы по краям\n",
    "v: int  = s.count('<str>') # число вхождний подстроки\n",
    "v: bool = s.startswith('<str>') # s.endswith('<str>')\n",
    "v: str  = s.join(['<str>', '<str>', '<str>'])\n",
    "```"
   ]
  },
  {
   "cell_type": "markdown",
   "metadata": {},
   "source": [
    "#### Индексирование\n",
    "\n",
    "```python\n",
    "\n",
    "s = 'Hello World!'\n",
    "len(s), s[0], s[-1]     # 12, 'H', '!'\n",
    "b = s[0:3] + s[-2:-1]   # 'Held' \n",
    "s[::-1], s[1:-1:2]   # '!dlroW olleH', 'el ol'\n",
    "```\n"
   ]
  },
  {
   "cell_type": "markdown",
   "metadata": {},
   "source": [
    "#### Кодировки\n",
    "\n",
    "*Кодировка символов*, *символьная таблица* - однозначное отображение чисел и графических символов, в частности букв, иероглифов и пр., что позволяет передавать и хранить тексты с помощью вычислительной техники. \n",
    "\n",
    "Старые однобайтовые кодировки (`ASCII`, `Windows-1251`, `KOI-8R`) позволяли одновременно отображать ограниченное количество символов.\n",
    "\n",
    "`Unicode` - стандарт кодирования символов, существующих в большей части мировых систем письменности. Например символ **ѣ** имеет код `U+0463`\n",
    "\n",
    "Конкретное байтовое представление зависит от конкретной кодировки:\n",
    "\n",
    "- `UTF-8` - стандарт кодирования, позволяющий хранить и передавать символы Unicode, используя переменное количество байт (от 1 до 4)\n",
    "- `UTF-16` - стандарт кодирования, позволяющий хранить и передавать символы Unicode, используя 2 или 4 байта. \n",
    "- `UTF-32` - стандарт кодирования, позволяющий хранить и передавать символы Unicode, используя 4 байта. \n",
    "\n",
    "Стандарт `Unicode` содержит \"список комбинируемых диакритических знаков\", который позволяет изменять написание текста, добавляя к буквам различные диакритические символы:\n",
    "\n",
    "```python\n",
    "\n",
    "print(\"П\\u030aривет\")\n",
    "\n",
    "П̊ривет\n",
    "```"
   ]
  },
  {
   "cell_type": "markdown",
   "metadata": {},
   "source": [
    "#### UTF-8\n",
    "\n",
    "| First code point | Last code point |   Byte 1  |   Byte 2  |   Byte 3  |   Byte 4  |\n",
    "|:----------------:|:---------------:|:---------:|:---------:|:---------:|:---------:|\n",
    "|           U+0000 |          U+007F |  0xxxxxxx |           |           |           |\n",
    "|           U+0080 |          U+07FF |  110xxxxx |  10xxxxxx |           |           |\n",
    "|           U+0800 |          U+FFFF |  1110xxxx |  10xxxxxx |  10xxxxxx |           |\n",
    "|          U+10000 |        U+10FFFF |  11110xxx |  10xxxxxx |  10xxxxxx |  10xxxxxx |"
   ]
  },
  {
   "cell_type": "markdown",
   "metadata": {},
   "source": [
    "### bytes"
   ]
  },
  {
   "cell_type": "markdown",
   "metadata": {},
   "source": [
    "Неизменяемая последовательность байт, интерфейс схож со строками, но байты не несут какой-то семантической нагрузки (не кодируют символы). Для удобства, содержимое отображается в кодировке `ASCII`.\n",
    "\n",
    "```python\n",
    "b = b'Hello world'\n",
    "b = b'Привет мир' # error: bytes can only contain ASCII literal characters\n",
    "```"
   ]
  },
  {
   "cell_type": "markdown",
   "metadata": {},
   "source": [
    "```python\n",
    "b = bytes.fromhex('2Ef0 F1f2')    # b'.\\xf0\\xf1\\xf2'\n",
    "\n",
    "b = \"Привет мир\".encode(\"utf-8\")  \n",
    "b = \"Привет мир\".encode(\"utf-32\")\n",
    "b = \"Привет мир\".encode(\"windows-1251\") \n",
    "```"
   ]
  },
  {
   "cell_type": "markdown",
   "metadata": {},
   "source": [
    "### Списки\n",
    "\n",
    "В `Python` есть базовые типы, которые кодируют последовательность элементов: `list`, `tuple`, `str`, `bytes`, `bytearray`, `range`. Многие их них следуют интерфейсу `collections.abc.Sequence`. \n",
    "\n",
    "Основные операции:\n",
    "\n",
    "| Операция             | Действие                                                     |\n",
    "|----------------------|--------------------------------------------------------------|\n",
    "| x in s               | True, если элемент в коллекции                               |\n",
    "| x not in s           | True, если элемент не в коллекции                            |\n",
    "| s + t                | конкатинация s и t                                           |\n",
    "| s * n or n * s       | добавление s к самому себе n раз                             |\n",
    "| s[i]                 | i-й элемент                                                  |\n",
    "| s[i:j]               | срез с i до j                                                |\n",
    "| s[i:j:k]             | срез c i до j с шагом k                                      |\n",
    "| len(s)               | длина s                                                      |\n",
    "| min(s)               | меньший элемент                                              |\n",
    "| max(s)               | больший элемент                                              |\n",
    "| s.index(x[, i[, j]]) | индекс первого вохрождения x в s (опционально - между i и j) |\n",
    "| s.count(x)           | число вхождений x в s                                        |"
   ]
  },
  {
   "cell_type": "markdown",
   "metadata": {},
   "source": [
    "Список - `list`, это изменяемая последовательность элементов. Используется для хранения последовательности однородной по природе использования элементов.  Для задания списка существует специальный синтаксис:\n",
    "\n",
    "```python3\n",
    "l = [1, 2, 3, None]\n",
    "```"
   ]
  },
  {
   "cell_type": "markdown",
   "metadata": {},
   "source": [
    "#### Основные операции над списками\n",
    "\n",
    "```python\n",
    "\n",
    "lst.append(5)          # добавление элемента в конец\n",
    "lst.extend([1, 2, 3])  # добавления коллекции в конец\n",
    "lst.remove(5)          # удалить первое вхождение\n",
    "lst.pop()              # удалить последний элемент\n",
    "lst.count(5)           # число элементов в списке\n",
    "lst.index(5)           # индекс первого элемент\n",
    "lst.insert(1, 5)       # вставить *el* на позицию *1*\n",
    "lst.clear()            # очистить список\n",
    "            \n",
    "lst += [1, 2, 4]       # extend\n",
    "```"
   ]
  },
  {
   "cell_type": "markdown",
   "metadata": {},
   "source": [
    "#### Кортежи\n",
    "\n",
    "Очень похожи на списки, но неизменяемы. Используется для хранения набора разнородных данных.\n",
    "\n",
    "```python\n",
    "\n",
    "single = (25,)\n",
    "\n",
    "person = (25, \"Ivan\", \"Ivanov\")\n",
    "\n",
    "s[0] = 22 # 'tuple' object does not support item assignment\n",
    "\n",
    "age, name, sname = s   # \"распаковка\" элементов кортежа по переменным \n",
    "\n",
    "t = tuple([1, 2, 3])   # t = (1, 2, 3) \n",
    "\n",
    "```"
   ]
  },
  {
   "cell_type": "markdown",
   "metadata": {},
   "source": [
    "### Range\n",
    "\n",
    "Инкапсулирует неизменяемую последовательность целых чисел, используется в циклам и т.п.\n",
    "\n",
    "```python\n",
    "\n",
    "for idx in range(5):\n",
    "    print(idx)         # 1, 2, 3, 4\n",
    "\n",
    "list(range(5))   # [1, 2, 3, 4]\n",
    "tuple(range(5))  # (1, 2, 3, 4)\n",
    "```"
   ]
  },
  {
   "cell_type": "markdown",
   "metadata": {},
   "source": [
    "### Множества\n",
    "\n",
    "`set` — это неупорядоченный набор различных хешируемых объектов. Типовое использование заключается в  проверке вхождения, удаление дубликатов из последовательности и вычисление теоретико-множественных операций, таких как пересечение, объединение, разность. \n",
    "\n",
    "Будучи неупорядоченной коллекцией, `set` не сохраняет позицию элемента или порядок вставки. Соответственно, множества не поддерживают индексирование, получение срезов или другие действие, типичные для последовательностей. \n",
    "\n",
    "В стандартной библиотеке существует два встроенных типа множеств: `set` и `frozenset` . \n",
    "Последнее - неизменяемая версия, поддерживающая хеширование. "
   ]
  },
  {
   "cell_type": "markdown",
   "metadata": {},
   "source": [
    "```python\n",
    "s = {1, 2, 3}\n",
    "s = set([1, 2, 3])\n",
    "```"
   ]
  },
  {
   "cell_type": "markdown",
   "metadata": {},
   "source": [
    "```python\n",
    "s = set()\n",
    "s = set([1, 2, 3])\n",
    "\n",
    "s.add(5)\n",
    "s.discard(5)   # удалить элемент\n",
    "s.pop()        # удалить произвольный элемент, если множество пусто, то бросить исключение\n",
    "s.remove(2)    # удалить элемент, если такого нет, то бросить исключение\n",
    "s.update({1, 2, 3})\n",
    "s.clear()\n",
    "r: set  = s.difference({1, 2, 3})\n",
    "r: set  = s.union({1, 2, 3})\n",
    "r: set  = s.intersection({1, 2, 3})\n",
    "r: set  = s.issubset({1, 2, 3})\n",
    "r: bool = s.issuperset({1, 2, 3})\n",
    "    \n",
    "s |= {1, 2, 3}    \n",
    "s &= {1, 2, 3}\n",
    "```"
   ]
  },
  {
   "cell_type": "markdown",
   "metadata": {},
   "source": [
    "```python\n",
    "{ 1 } | {2, 3, 5} - {5}  # {1, 2, 3}\n",
    "{1, 2} & {2, 5}          # {2}\n",
    "\n",
    "2 in {1, 2}              # True\n",
    "3 in {1, 2}              # False  \n",
    "```"
   ]
  },
  {
   "cell_type": "markdown",
   "metadata": {},
   "source": [
    "### Словари\n",
    "\n",
    "Словарь, `dict`, позволяет однозначно сопоставлять хешируемые объекты с произвольными объектами (ключ → значение). Изменяем. "
   ]
  },
  {
   "cell_type": "markdown",
   "metadata": {},
   "source": [
    "```python\n",
    "d = {1: 'a', 2: '3', 3: '4' } \n",
    "d = dict()\n",
    "d = dict([(1, 2), (3, 4)])\n",
    "```\n",
    "\n",
    "```python\n",
    "d.items()      # итератор по парам (ключ, значение)\n",
    "d.keys()       # итератор ключей\n",
    "d.values()     # итератор значений\n",
    "d.pop(el)      # удалить ключ, возвратить значение \n",
    "d.get(el)      # значение по ключу\n",
    "d.get(el, 5)   # значение по ключу, если нет - по умолчанию\n",
    "d.update({5: '7', 9: '10'})  # добавить все пары ключ/значение из *d*\n",
    "d.clear()\n",
    "```"
   ]
  },
  {
   "cell_type": "markdown",
   "metadata": {},
   "source": [
    "#### Получение значения о ключу\n",
    "\n",
    "```python\n",
    "s = {1: 'b', 2: 'c'}\n",
    "\n",
    "s[3] = 'a'\n",
    "s[2]           # 'c'\n",
    "s[8]           # KeyError: 8\n",
    "d.get(8, -1)   # -1\n",
    "2 in s         # True\n",
    "d.keys()       # Коллекция ключей\n",
    "d.values()     # Коллекция значений"
   ]
  },
  {
   "cell_type": "markdown",
   "metadata": {},
   "source": [
    "#### Итераторы\n",
    "\n",
    "Python поддерживает концепцию итераторов - абстракция, которая позволяет проходить по элементам контейнера (не только). Если контейнер или класс поддерживает итераторы, то он должен реализовать метод `__iter__()`, который возвращает специальный объект с двумя методами `__iter__()` и `__next__()`.\n",
    "\n",
    "```python\n",
    "\n",
    "l = [1, 2, 3]\n",
    "it = iter(l)\n",
    "\n",
    "next(it)  # 1\n",
    "next(it)  # 2\n",
    "next(it)  # 3\n",
    "next(it)  # StopIteration exception\n",
    "```"
   ]
  },
  {
   "cell_type": "markdown",
   "metadata": {},
   "source": [
    "Код\n",
    "\n",
    "```python\n",
    "lst = [1, 2, 3]\n",
    "\n",
    "for x in lst:\n",
    "    action(x)\n",
    "```\n",
    "\n",
    "примерно эквивалентен \n",
    "\n",
    "```python\n",
    "it = iter(lst)\n",
    "while True:\n",
    "    try:\n",
    "        value = next(it)        \n",
    "    except StopIteration:\n",
    "        break            \n",
    "    action(value)\n",
    "```"
   ]
  },
  {
   "cell_type": "markdown",
   "metadata": {},
   "source": [
    "## Управляющие конструкции"
   ]
  },
  {
   "cell_type": "markdown",
   "metadata": {},
   "source": [
    "### Цикл `for`\n",
    "\n",
    "```python\n",
    "s = 0\n",
    "for i in [1, 2, 3]:\n",
    "    s += i\n",
    "```\n",
    "\n",
    "Если нужно итерироваться по коллекции с индексами\n",
    "\n",
    "```python\n",
    "lst = ['a', 'b', 'c']\n",
    "result = []\n",
    "for (i, x) in enumerate(lst):\n",
    "    result.append((x, i))\n",
    "```\n",
    "\n",
    "Если нужно итерироваться по индексам\n",
    "\n",
    "```python\n",
    "s = 0\n",
    "l = [1, 2, 3]\n",
    "for idx in range(len(l)):\n",
    "    s += l[idx]\n",
    "```"
   ]
  },
  {
   "cell_type": "markdown",
   "metadata": {},
   "source": [
    "#### Цикл `while`\n",
    "\n",
    "```python\n",
    "i = 0\n",
    "lst = []\n",
    "while len(lst) < 6:\n",
    "    lst.append(i)\n",
    "    i += 1\n",
    "```\n",
    "\n",
    "\n",
    "`break` - досрочно выйти из цикла\n",
    "\n",
    "`continue` - перейти к следующей итерации"
   ]
  },
  {
   "cell_type": "markdown",
   "metadata": {},
   "source": [
    "### Условный оператор `if`\n",
    "\n",
    "```python\n",
    "a = 2\n",
    "if a < 5:\n",
    "    a = 1\n",
    "elif a == 5:\n",
    "    a = 2\n",
    "else: \n",
    "    a = 3   \n",
    "```\n"
   ]
  },
  {
   "cell_type": "markdown",
   "metadata": {},
   "source": [
    "### List comprehension\n",
    "\n",
    "Синтаксическая структура для компактного описания операций обработки списков.\n",
    "\n",
    "```python\n",
    "l = [1, 2, 3]  \n",
    "\n",
    "# список квадратов\n",
    "l = [x * x for x in l] # [1, 4, 9]\n",
    "\n",
    "# список квадратов четных чисел\n",
    "l = [x * x for x in range(1, 10) if x % 2 == 0] \n",
    "\n",
    "```"
   ]
  },
  {
   "cell_type": "markdown",
   "metadata": {},
   "source": [
    "Более сложный пример - получается список списков\n",
    "\n",
    "```python\n",
    "[list(range(x)) for x in range(1, 10) if x % 2 == 1]\n",
    "\n",
    "[[0],\n",
    " [0, 1, 2],\n",
    " [0, 1, 2, 3, 4],\n",
    " [0, 1, 2, 3, 4, 5, 6],\n",
    " [0, 1, 2, 3, 4, 5, 6, 7, 8]]\n",
    "\n",
    "```"
   ]
  },
  {
   "cell_type": "markdown",
   "metadata": {},
   "source": [
    "Может включать несколько списков\n",
    "\n",
    "```python\n",
    "[(x, y) for x in range(1, 20) for y in range(1, 20) if x * y == 16]\n",
    "\n",
    "[(1, 16), (2, 8), (4, 4), (8, 2), (16, 1)]\n",
    "```"
   ]
  },
  {
   "cell_type": "markdown",
   "metadata": {},
   "source": [
    "Может создавать не только списки, но и словари и множества\n",
    "```python\n",
    "{ x * x : x for x in range(5) }\n",
    "\n",
    "{0: 0, 1: 1, 4: 2, 9: 3, 16: 4}\n",
    "```"
   ]
  },
  {
   "cell_type": "markdown",
   "metadata": {},
   "source": [
    "Удобно работать с текстовыми данными\n",
    "\n",
    "```python\n",
    "text = ['Hello', 'world', '!']\n",
    "\n",
    "text_filtered = [t.lower() for t in text if t.isalpha()]\n",
    "```"
   ]
  }
 ],
 "metadata": {
  "celltoolbar": "Слайд-шоу",
  "kernelspec": {
   "display_name": "Python 3 (ipykernel)",
   "language": "python",
   "name": "python3"
  },
  "language_info": {
   "codemirror_mode": {
    "name": "ipython",
    "version": 3
   },
   "file_extension": ".py",
   "mimetype": "text/x-python",
   "name": "python",
   "nbconvert_exporter": "python",
   "pygments_lexer": "ipython3",
   "version": "3.10.4"
  },
  "vscode": {
   "interpreter": {
    "hash": "916dbcbb3f70747c44a77c7bcd40155683ae19c65e1c03b4aa3499c5328201f1"
   }
  }
 },
 "nbformat": 4,
 "nbformat_minor": 4
}
